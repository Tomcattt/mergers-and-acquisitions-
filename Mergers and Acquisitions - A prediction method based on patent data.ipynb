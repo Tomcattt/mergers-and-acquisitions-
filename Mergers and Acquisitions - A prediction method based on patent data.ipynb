{
 "cells": [
  {
   "cell_type": "code",
   "execution_count": 1,
   "metadata": {},
   "outputs": [],
   "source": [
    "import ast\n",
    "import pandas as pd\n",
    "import numpy as np\n",
    "import csv\n",
    "import json\n",
    "import os\n",
    "import pickle"
   ]
  },
  {
   "cell_type": "markdown",
   "metadata": {},
   "source": [
    "## Importing basic patent data"
   ]
  },
  {
   "cell_type": "raw",
   "metadata": {},
   "source": [
    "here some raw data: this is the official Patents database in the US."
   ]
  },
  {
   "cell_type": "code",
   "execution_count": 2,
   "metadata": {},
   "outputs": [
    {
     "name": "stderr",
     "output_type": "stream",
     "text": [
      "/Users/quentinciccarone/opt/anaconda3/lib/python3.8/site-packages/IPython/core/interactiveshell.py:3071: DtypeWarning: Columns (4) have mixed types.Specify dtype option on import or set low_memory=False.\n",
      "  has_raised = await self.run_ast_nodes(code_ast.body, cell_name,\n"
     ]
    }
   ],
   "source": [
    "ipcr = pd.read_csv('raw_data/ipcr.tsv', sep='\\t')"
   ]
  },
  {
   "cell_type": "code",
   "execution_count": 3,
   "metadata": {},
   "outputs": [
    {
     "data": {
      "text/html": [
       "<div>\n",
       "<style scoped>\n",
       "    .dataframe tbody tr th:only-of-type {\n",
       "        vertical-align: middle;\n",
       "    }\n",
       "\n",
       "    .dataframe tbody tr th {\n",
       "        vertical-align: top;\n",
       "    }\n",
       "\n",
       "    .dataframe thead th {\n",
       "        text-align: right;\n",
       "    }\n",
       "</style>\n",
       "<table border=\"1\" class=\"dataframe\">\n",
       "  <thead>\n",
       "    <tr style=\"text-align: right;\">\n",
       "      <th></th>\n",
       "      <th>uuid</th>\n",
       "      <th>patent_id</th>\n",
       "      <th>classification_level</th>\n",
       "      <th>section</th>\n",
       "      <th>ipc_class</th>\n",
       "      <th>subclass</th>\n",
       "      <th>main_group</th>\n",
       "      <th>subgroup</th>\n",
       "      <th>symbol_position</th>\n",
       "      <th>classification_value</th>\n",
       "      <th>classification_status</th>\n",
       "      <th>classification_data_source</th>\n",
       "      <th>action_date</th>\n",
       "      <th>ipc_version_indicator</th>\n",
       "      <th>sequence</th>\n",
       "    </tr>\n",
       "  </thead>\n",
       "  <tbody>\n",
       "    <tr>\n",
       "      <th>0</th>\n",
       "      <td>00005z3qh82fwpo5r1oupwpr3</td>\n",
       "      <td>6864832</td>\n",
       "      <td>NaN</td>\n",
       "      <td>G</td>\n",
       "      <td>01</td>\n",
       "      <td>S</td>\n",
       "      <td>013</td>\n",
       "      <td>/42</td>\n",
       "      <td>NaN</td>\n",
       "      <td>NaN</td>\n",
       "      <td>NaN</td>\n",
       "      <td>NaN</td>\n",
       "      <td>NaN</td>\n",
       "      <td>NaN</td>\n",
       "      <td>0</td>\n",
       "    </tr>\n",
       "    <tr>\n",
       "      <th>1</th>\n",
       "      <td>0000662nssr53hdo3lp92sz26</td>\n",
       "      <td>9954111</td>\n",
       "      <td>A</td>\n",
       "      <td>H</td>\n",
       "      <td>01</td>\n",
       "      <td>L</td>\n",
       "      <td>27</td>\n",
       "      <td>1156</td>\n",
       "      <td>L</td>\n",
       "      <td>I</td>\n",
       "      <td>B</td>\n",
       "      <td>H</td>\n",
       "      <td>2018-04-24</td>\n",
       "      <td>2017-01-01</td>\n",
       "      <td>8</td>\n",
       "    </tr>\n",
       "    <tr>\n",
       "      <th>2</th>\n",
       "      <td>00008u9j3g8oivqtuc1dqayb1</td>\n",
       "      <td>10048897</td>\n",
       "      <td>A</td>\n",
       "      <td>G</td>\n",
       "      <td>06</td>\n",
       "      <td>F</td>\n",
       "      <td>12</td>\n",
       "      <td>891</td>\n",
       "      <td>L</td>\n",
       "      <td>I</td>\n",
       "      <td>B</td>\n",
       "      <td>H</td>\n",
       "      <td>2018-08-14</td>\n",
       "      <td>2016-01-01</td>\n",
       "      <td>7</td>\n",
       "    </tr>\n",
       "    <tr>\n",
       "      <th>3</th>\n",
       "      <td>00008v5gnw215cdjozwehxqky</td>\n",
       "      <td>10694566</td>\n",
       "      <td>A</td>\n",
       "      <td>H</td>\n",
       "      <td>4</td>\n",
       "      <td>W</td>\n",
       "      <td>4</td>\n",
       "      <td>0</td>\n",
       "      <td>F</td>\n",
       "      <td>I</td>\n",
       "      <td>B</td>\n",
       "      <td>H</td>\n",
       "      <td>2020-06-23</td>\n",
       "      <td>2018-01-01</td>\n",
       "      <td>0</td>\n",
       "    </tr>\n",
       "    <tr>\n",
       "      <th>4</th>\n",
       "      <td>0000hj3ytmy8g9l2qa5x1hta5</td>\n",
       "      <td>D409748</td>\n",
       "      <td>NaN</td>\n",
       "      <td>D</td>\n",
       "      <td>24</td>\n",
       "      <td>04</td>\n",
       "      <td>NaN</td>\n",
       "      <td>NaN</td>\n",
       "      <td>NaN</td>\n",
       "      <td>NaN</td>\n",
       "      <td>NaN</td>\n",
       "      <td>NaN</td>\n",
       "      <td>NaN</td>\n",
       "      <td>NaN</td>\n",
       "      <td>0</td>\n",
       "    </tr>\n",
       "  </tbody>\n",
       "</table>\n",
       "</div>"
      ],
      "text/plain": [
       "                        uuid patent_id classification_level section ipc_class  \\\n",
       "0  00005z3qh82fwpo5r1oupwpr3   6864832                  NaN       G        01   \n",
       "1  0000662nssr53hdo3lp92sz26   9954111                    A       H        01   \n",
       "2  00008u9j3g8oivqtuc1dqayb1  10048897                    A       G        06   \n",
       "3  00008v5gnw215cdjozwehxqky  10694566                    A       H         4   \n",
       "4  0000hj3ytmy8g9l2qa5x1hta5   D409748                  NaN       D        24   \n",
       "\n",
       "  subclass main_group subgroup symbol_position classification_value  \\\n",
       "0        S        013      /42             NaN                  NaN   \n",
       "1        L         27     1156               L                    I   \n",
       "2        F         12      891               L                    I   \n",
       "3        W          4        0               F                    I   \n",
       "4       04        NaN      NaN             NaN                  NaN   \n",
       "\n",
       "  classification_status classification_data_source action_date  \\\n",
       "0                   NaN                        NaN         NaN   \n",
       "1                     B                          H  2018-04-24   \n",
       "2                     B                          H  2018-08-14   \n",
       "3                     B                          H  2020-06-23   \n",
       "4                   NaN                        NaN         NaN   \n",
       "\n",
       "  ipc_version_indicator  sequence  \n",
       "0                   NaN         0  \n",
       "1            2017-01-01         8  \n",
       "2            2016-01-01         7  \n",
       "3            2018-01-01         0  \n",
       "4                   NaN         0  "
      ]
     },
     "execution_count": 3,
     "metadata": {},
     "output_type": "execute_result"
    }
   ],
   "source": [
    "ipcr.head()"
   ]
  },
  {
   "cell_type": "raw",
   "metadata": {},
   "source": [
    "here a dataset allowing to make the link between the name of the startup and the id."
   ]
  },
  {
   "cell_type": "code",
   "execution_count": 4,
   "metadata": {},
   "outputs": [],
   "source": [
    "assignee = pd.read_csv('raw_data/rawassignee.tsv', sep='\\t')"
   ]
  },
  {
   "cell_type": "code",
   "execution_count": 5,
   "metadata": {},
   "outputs": [
    {
     "data": {
      "text/html": [
       "<div>\n",
       "<style scoped>\n",
       "    .dataframe tbody tr th:only-of-type {\n",
       "        vertical-align: middle;\n",
       "    }\n",
       "\n",
       "    .dataframe tbody tr th {\n",
       "        vertical-align: top;\n",
       "    }\n",
       "\n",
       "    .dataframe thead th {\n",
       "        text-align: right;\n",
       "    }\n",
       "</style>\n",
       "<table border=\"1\" class=\"dataframe\">\n",
       "  <thead>\n",
       "    <tr style=\"text-align: right;\">\n",
       "      <th></th>\n",
       "      <th>uuid</th>\n",
       "      <th>patent_id</th>\n",
       "      <th>assignee_id</th>\n",
       "      <th>rawlocation_id</th>\n",
       "      <th>type</th>\n",
       "      <th>name_first</th>\n",
       "      <th>name_last</th>\n",
       "      <th>organization</th>\n",
       "      <th>sequence</th>\n",
       "    </tr>\n",
       "  </thead>\n",
       "  <tbody>\n",
       "    <tr>\n",
       "      <th>0</th>\n",
       "      <td>0000c0e5-81d5-4a02-bb9e-d5c3ef596900</td>\n",
       "      <td>4488683</td>\n",
       "      <td>org_zzDG6gSOdiYZdFsxQuQR</td>\n",
       "      <td>b44f6bf0-1f14-4b25-9ab6-06945ff1e8e1</td>\n",
       "      <td>3.0</td>\n",
       "      <td>NaN</td>\n",
       "      <td>NaN</td>\n",
       "      <td>Metal Works Ramat David</td>\n",
       "      <td>0</td>\n",
       "    </tr>\n",
       "    <tr>\n",
       "      <th>1</th>\n",
       "      <td>0000p94wkezw94s8cz7dbxlvz</td>\n",
       "      <td>5856666</td>\n",
       "      <td>org_fBtpUrdoVp5Lzvqma3Lv</td>\n",
       "      <td>orskbf54s58e97lkmw8na5rpx</td>\n",
       "      <td>2.0</td>\n",
       "      <td>NaN</td>\n",
       "      <td>NaN</td>\n",
       "      <td>U.S. Philips Corporation</td>\n",
       "      <td>0</td>\n",
       "    </tr>\n",
       "    <tr>\n",
       "      <th>2</th>\n",
       "      <td>00013vk881wap9u4mbo7lwwhp</td>\n",
       "      <td>5204210</td>\n",
       "      <td>org_uBBq49OpEQSGb2SJJBBT</td>\n",
       "      <td>mue862v5lcjdhzqqk86ei75kj</td>\n",
       "      <td>2.0</td>\n",
       "      <td>NaN</td>\n",
       "      <td>NaN</td>\n",
       "      <td>Xerox Corporation</td>\n",
       "      <td>0</td>\n",
       "    </tr>\n",
       "    <tr>\n",
       "      <th>3</th>\n",
       "      <td>000192sn2u10kzpikl4s7h3r0</td>\n",
       "      <td>5302149</td>\n",
       "      <td>org_ObwJtJBwY2t1dFv6oAAj</td>\n",
       "      <td>o1h9dqdv0yq7dt1b1vmrcal9h</td>\n",
       "      <td>3.0</td>\n",
       "      <td>NaN</td>\n",
       "      <td>NaN</td>\n",
       "      <td>Commonwealth Scientific &amp; Industrial Research ...</td>\n",
       "      <td>1</td>\n",
       "    </tr>\n",
       "    <tr>\n",
       "      <th>4</th>\n",
       "      <td>0001ce9b-3c22-4f3a-b621-6c4e3ed85792</td>\n",
       "      <td>D397841</td>\n",
       "      <td>org_q4Ruupmeytq4y41ZiXdM</td>\n",
       "      <td>83c2755a-df62-4f4f-8509-43b9dcfeb038</td>\n",
       "      <td>3.0</td>\n",
       "      <td>NaN</td>\n",
       "      <td>NaN</td>\n",
       "      <td>adidas, AG</td>\n",
       "      <td>0</td>\n",
       "    </tr>\n",
       "  </tbody>\n",
       "</table>\n",
       "</div>"
      ],
      "text/plain": [
       "                                   uuid patent_id               assignee_id  \\\n",
       "0  0000c0e5-81d5-4a02-bb9e-d5c3ef596900   4488683  org_zzDG6gSOdiYZdFsxQuQR   \n",
       "1             0000p94wkezw94s8cz7dbxlvz   5856666  org_fBtpUrdoVp5Lzvqma3Lv   \n",
       "2             00013vk881wap9u4mbo7lwwhp   5204210  org_uBBq49OpEQSGb2SJJBBT   \n",
       "3             000192sn2u10kzpikl4s7h3r0   5302149  org_ObwJtJBwY2t1dFv6oAAj   \n",
       "4  0001ce9b-3c22-4f3a-b621-6c4e3ed85792   D397841  org_q4Ruupmeytq4y41ZiXdM   \n",
       "\n",
       "                         rawlocation_id  type name_first name_last  \\\n",
       "0  b44f6bf0-1f14-4b25-9ab6-06945ff1e8e1   3.0        NaN       NaN   \n",
       "1             orskbf54s58e97lkmw8na5rpx   2.0        NaN       NaN   \n",
       "2             mue862v5lcjdhzqqk86ei75kj   2.0        NaN       NaN   \n",
       "3             o1h9dqdv0yq7dt1b1vmrcal9h   3.0        NaN       NaN   \n",
       "4  83c2755a-df62-4f4f-8509-43b9dcfeb038   3.0        NaN       NaN   \n",
       "\n",
       "                                        organization  sequence  \n",
       "0                            Metal Works Ramat David         0  \n",
       "1                           U.S. Philips Corporation         0  \n",
       "2                                  Xerox Corporation         0  \n",
       "3  Commonwealth Scientific & Industrial Research ...         1  \n",
       "4                                         adidas, AG         0  "
      ]
     },
     "execution_count": 5,
     "metadata": {},
     "output_type": "execute_result"
    }
   ],
   "source": [
    "assignee.head()"
   ]
  },
  {
   "cell_type": "markdown",
   "metadata": {},
   "source": [
    "## Canonical dataset"
   ]
  },
  {
   "cell_type": "raw",
   "metadata": {},
   "source": [
    "Here is simply the list of patents, with the id of the firm that put it in place, as well as the \"action date\" of the patent."
   ]
  },
  {
   "cell_type": "code",
   "execution_count": 8,
   "metadata": {},
   "outputs": [
    {
     "name": "stderr",
     "output_type": "stream",
     "text": [
      "<ipython-input-8-8782019bf8df>:5: SettingWithCopyWarning: \n",
      "A value is trying to be set on a copy of a slice from a DataFrame.\n",
      "Try using .loc[row_indexer,col_indexer] = value instead\n",
      "\n",
      "See the caveats in the documentation: https://pandas.pydata.org/pandas-docs/stable/user_guide/indexing.html#returning-a-view-versus-a-copy\n",
      "  assignee_1['organization'] = assignee_1['organization'].str.upper()\n"
     ]
    }
   ],
   "source": [
    "assignee_0 = assignee[['patent_id','assignee_id','organization']]\n",
    "\n",
    "# list of organisation_id/true_name_organization\n",
    "assignee_1 = assignee[['assignee_id','organization']]\n",
    "assignee_1['organization'] = assignee_1['organization'].str.upper()\n",
    "\n",
    "# list of  patent_id / organisation_id\n",
    "assignee_2 = assignee[['patent_id','assignee_id']]\n"
   ]
  },
  {
   "cell_type": "code",
   "execution_count": 9,
   "metadata": {},
   "outputs": [
    {
     "name": "stderr",
     "output_type": "stream",
     "text": [
      "<ipython-input-9-8d40f726771a>:4: SettingWithCopyWarning: \n",
      "A value is trying to be set on a copy of a slice from a DataFrame.\n",
      "Try using .loc[row_indexer,col_indexer] = value instead\n",
      "\n",
      "See the caveats in the documentation: https://pandas.pydata.org/pandas-docs/stable/user_guide/indexing.html#returning-a-view-versus-a-copy\n",
      "  ipcr_1['ipc_version_indicator']=pd.to_datetime(ipcr_1['ipc_version_indicator'],format='%Y-%m-%d', errors='ignore')\n",
      "<ipython-input-9-8d40f726771a>:7: FutureWarning: The pandas.datetime class is deprecated and will be removed from pandas in a future version. Import from datetime module instead.\n",
      "  ipcr_1= ipcr_1[ipcr_1['ipc_version_indicator']>pd.datetime(1800,1,1)]\n"
     ]
    }
   ],
   "source": [
    "ipcr_1 = ipcr[['patent_id','ipc_version_indicator']]\n",
    "\n",
    "# conversion en date\n",
    "ipcr_1['ipc_version_indicator']=pd.to_datetime(ipcr_1['ipc_version_indicator'],format='%Y-%m-%d', errors='ignore')\n",
    "\n",
    "# filtrage pour enlever les patent qui n'ont pas de date\n",
    "ipcr_1= ipcr_1[ipcr_1['ipc_version_indicator']>pd.datetime(1800,1,1)]\n",
    "\n",
    "ipcr_1 = ipcr_1.set_index('patent_id')\n",
    "\n",
    "# filtrage qui permet d'enlever les patents en double\n",
    "ipcr_1 = ipcr_1[~ipcr_1.index.duplicated(keep='first')]\n"
   ]
  },
  {
   "cell_type": "raw",
   "metadata": {},
   "source": [
    "Here is the first reference dataset (only to name the companies, we use the organization_id for the code to avoid errors as much as possible)."
   ]
  },
  {
   "cell_type": "code",
   "execution_count": 17,
   "metadata": {},
   "outputs": [],
   "source": [
    "# canonique_1 = assignee_1\n",
    "# pickle.dump( canonique_1, open( \"canonique_1.p\", \"wb\" ) )"
   ]
  },
  {
   "cell_type": "code",
   "execution_count": 16,
   "metadata": {},
   "outputs": [
    {
     "data": {
      "text/html": [
       "<div>\n",
       "<style scoped>\n",
       "    .dataframe tbody tr th:only-of-type {\n",
       "        vertical-align: middle;\n",
       "    }\n",
       "\n",
       "    .dataframe tbody tr th {\n",
       "        vertical-align: top;\n",
       "    }\n",
       "\n",
       "    .dataframe thead th {\n",
       "        text-align: right;\n",
       "    }\n",
       "</style>\n",
       "<table border=\"1\" class=\"dataframe\">\n",
       "  <thead>\n",
       "    <tr style=\"text-align: right;\">\n",
       "      <th></th>\n",
       "      <th>assignee_id</th>\n",
       "      <th>organization</th>\n",
       "    </tr>\n",
       "  </thead>\n",
       "  <tbody>\n",
       "    <tr>\n",
       "      <th>0</th>\n",
       "      <td>org_zzDG6gSOdiYZdFsxQuQR</td>\n",
       "      <td>METAL WORKS RAMAT DAVID</td>\n",
       "    </tr>\n",
       "    <tr>\n",
       "      <th>1</th>\n",
       "      <td>org_fBtpUrdoVp5Lzvqma3Lv</td>\n",
       "      <td>U.S. PHILIPS CORPORATION</td>\n",
       "    </tr>\n",
       "    <tr>\n",
       "      <th>2</th>\n",
       "      <td>org_uBBq49OpEQSGb2SJJBBT</td>\n",
       "      <td>XEROX CORPORATION</td>\n",
       "    </tr>\n",
       "    <tr>\n",
       "      <th>3</th>\n",
       "      <td>org_ObwJtJBwY2t1dFv6oAAj</td>\n",
       "      <td>COMMONWEALTH SCIENTIFIC &amp; INDUSTRIAL RESEARCH ...</td>\n",
       "    </tr>\n",
       "    <tr>\n",
       "      <th>4</th>\n",
       "      <td>org_q4Ruupmeytq4y41ZiXdM</td>\n",
       "      <td>ADIDAS, AG</td>\n",
       "    </tr>\n",
       "  </tbody>\n",
       "</table>\n",
       "</div>"
      ],
      "text/plain": [
       "                assignee_id                                       organization\n",
       "0  org_zzDG6gSOdiYZdFsxQuQR                            METAL WORKS RAMAT DAVID\n",
       "1  org_fBtpUrdoVp5Lzvqma3Lv                           U.S. PHILIPS CORPORATION\n",
       "2  org_uBBq49OpEQSGb2SJJBBT                                  XEROX CORPORATION\n",
       "3  org_ObwJtJBwY2t1dFv6oAAj  COMMONWEALTH SCIENTIFIC & INDUSTRIAL RESEARCH ...\n",
       "4  org_q4Ruupmeytq4y41ZiXdM                                         ADIDAS, AG"
      ]
     },
     "execution_count": 16,
     "metadata": {},
     "output_type": "execute_result"
    }
   ],
   "source": [
    "with open(\"canonique_1.p\", \"rb\") as cano1:\n",
    "    canonique_1 = pickle.load(cano1)\n",
    "canonique_1.head()"
   ]
  },
  {
   "cell_type": "raw",
   "metadata": {},
   "source": [
    "Here is the second dataset of reference, which allows to link the id_patent, their action_date and the id_organization"
   ]
  },
  {
   "cell_type": "code",
   "execution_count": 15,
   "metadata": {},
   "outputs": [],
   "source": [
    "# canonique_2 = pd.merge(ipcr_1,assignee_2, how='inner',on = 'patent_id')\n",
    "# pickle.dump( canonique_2, open( \"canonique_2.p\", \"wb\" ) )"
   ]
  },
  {
   "cell_type": "code",
   "execution_count": 18,
   "metadata": {},
   "outputs": [
    {
     "data": {
      "text/html": [
       "<div>\n",
       "<style scoped>\n",
       "    .dataframe tbody tr th:only-of-type {\n",
       "        vertical-align: middle;\n",
       "    }\n",
       "\n",
       "    .dataframe tbody tr th {\n",
       "        vertical-align: top;\n",
       "    }\n",
       "\n",
       "    .dataframe thead th {\n",
       "        text-align: right;\n",
       "    }\n",
       "</style>\n",
       "<table border=\"1\" class=\"dataframe\">\n",
       "  <thead>\n",
       "    <tr style=\"text-align: right;\">\n",
       "      <th></th>\n",
       "      <th>patent_id</th>\n",
       "      <th>ipc_version_indicator</th>\n",
       "      <th>assignee_id</th>\n",
       "    </tr>\n",
       "  </thead>\n",
       "  <tbody>\n",
       "    <tr>\n",
       "      <th>0</th>\n",
       "      <td>9954111</td>\n",
       "      <td>2017-01-01</td>\n",
       "      <td>org_wYgU2Jhd2MTGAna87vpi</td>\n",
       "    </tr>\n",
       "    <tr>\n",
       "      <th>1</th>\n",
       "      <td>10048897</td>\n",
       "      <td>2016-01-01</td>\n",
       "      <td>org_ONzMjdbZXiKfw4L0cXl6</td>\n",
       "    </tr>\n",
       "    <tr>\n",
       "      <th>2</th>\n",
       "      <td>10694566</td>\n",
       "      <td>2018-01-01</td>\n",
       "      <td>org_dfvuIWENawcU6lTd1Z3w</td>\n",
       "    </tr>\n",
       "    <tr>\n",
       "      <th>3</th>\n",
       "      <td>7645556</td>\n",
       "      <td>2006-01-01</td>\n",
       "      <td>org_pCbqlmAg8wlWzoi18ITD</td>\n",
       "    </tr>\n",
       "    <tr>\n",
       "      <th>4</th>\n",
       "      <td>8524174</td>\n",
       "      <td>2006-01-01</td>\n",
       "      <td>org_7P7texQL0Q4WvpEEvDg8</td>\n",
       "    </tr>\n",
       "  </tbody>\n",
       "</table>\n",
       "</div>"
      ],
      "text/plain": [
       "  patent_id ipc_version_indicator               assignee_id\n",
       "0   9954111            2017-01-01  org_wYgU2Jhd2MTGAna87vpi\n",
       "1  10048897            2016-01-01  org_ONzMjdbZXiKfw4L0cXl6\n",
       "2  10694566            2018-01-01  org_dfvuIWENawcU6lTd1Z3w\n",
       "3   7645556            2006-01-01  org_pCbqlmAg8wlWzoi18ITD\n",
       "4   8524174            2006-01-01  org_7P7texQL0Q4WvpEEvDg8"
      ]
     },
     "execution_count": 18,
     "metadata": {},
     "output_type": "execute_result"
    }
   ],
   "source": [
    "with open(\"canonique_2.p\", \"rb\") as cano2:\n",
    "    canonique_2 = pickle.load(cano2)\n",
    "canonique_2.head()"
   ]
  },
  {
   "cell_type": "raw",
   "metadata": {},
   "source": [
    "We can see here that according to our dataset, the company with the most patents is IBM with 97 202 patents."
   ]
  },
  {
   "cell_type": "code",
   "execution_count": 19,
   "metadata": {
    "scrolled": true
   },
   "outputs": [
    {
     "data": {
      "text/html": [
       "<div>\n",
       "<style scoped>\n",
       "    .dataframe tbody tr th:only-of-type {\n",
       "        vertical-align: middle;\n",
       "    }\n",
       "\n",
       "    .dataframe tbody tr th {\n",
       "        vertical-align: top;\n",
       "    }\n",
       "\n",
       "    .dataframe thead th {\n",
       "        text-align: right;\n",
       "    }\n",
       "</style>\n",
       "<table border=\"1\" class=\"dataframe\">\n",
       "  <thead>\n",
       "    <tr style=\"text-align: right;\">\n",
       "      <th></th>\n",
       "      <th>patent_id</th>\n",
       "      <th>ipc_version_indicator</th>\n",
       "    </tr>\n",
       "    <tr>\n",
       "      <th>assignee_id</th>\n",
       "      <th></th>\n",
       "      <th></th>\n",
       "    </tr>\n",
       "  </thead>\n",
       "  <tbody>\n",
       "    <tr>\n",
       "      <th>org_ONzMjdbZXiKfw4L0cXl6</th>\n",
       "      <td>97202</td>\n",
       "      <td>97202</td>\n",
       "    </tr>\n",
       "    <tr>\n",
       "      <th>org_pCbqlmAg8wlWzoi18ITD</th>\n",
       "      <td>68914</td>\n",
       "      <td>68914</td>\n",
       "    </tr>\n",
       "    <tr>\n",
       "      <th>org_eAKK85fawH0NS7AdXOig</th>\n",
       "      <td>44778</td>\n",
       "      <td>44778</td>\n",
       "    </tr>\n",
       "    <tr>\n",
       "      <th>org_g8U335TH48QmGJOIQnNl</th>\n",
       "      <td>32299</td>\n",
       "      <td>32299</td>\n",
       "    </tr>\n",
       "    <tr>\n",
       "      <th>org_OrmhECOcsM3rq5b7Pxfe</th>\n",
       "      <td>31143</td>\n",
       "      <td>31143</td>\n",
       "    </tr>\n",
       "  </tbody>\n",
       "</table>\n",
       "</div>"
      ],
      "text/plain": [
       "                          patent_id  ipc_version_indicator\n",
       "assignee_id                                               \n",
       "org_ONzMjdbZXiKfw4L0cXl6      97202                  97202\n",
       "org_pCbqlmAg8wlWzoi18ITD      68914                  68914\n",
       "org_eAKK85fawH0NS7AdXOig      44778                  44778\n",
       "org_g8U335TH48QmGJOIQnNl      32299                  32299\n",
       "org_OrmhECOcsM3rq5b7Pxfe      31143                  31143"
      ]
     },
     "execution_count": 19,
     "metadata": {},
     "output_type": "execute_result"
    }
   ],
   "source": [
    "canonique_2.groupby(by='assignee_id').count().sort_values(by=['patent_id'],ascending = False).head()"
   ]
  },
  {
   "cell_type": "code",
   "execution_count": 20,
   "metadata": {
    "scrolled": true
   },
   "outputs": [
    {
     "data": {
      "text/html": [
       "<div>\n",
       "<style scoped>\n",
       "    .dataframe tbody tr th:only-of-type {\n",
       "        vertical-align: middle;\n",
       "    }\n",
       "\n",
       "    .dataframe tbody tr th {\n",
       "        vertical-align: top;\n",
       "    }\n",
       "\n",
       "    .dataframe thead th {\n",
       "        text-align: right;\n",
       "    }\n",
       "</style>\n",
       "<table border=\"1\" class=\"dataframe\">\n",
       "  <thead>\n",
       "    <tr style=\"text-align: right;\">\n",
       "      <th></th>\n",
       "      <th>assignee_id</th>\n",
       "      <th>organization</th>\n",
       "    </tr>\n",
       "  </thead>\n",
       "  <tbody>\n",
       "    <tr>\n",
       "      <th>81</th>\n",
       "      <td>org_ONzMjdbZXiKfw4L0cXl6</td>\n",
       "      <td>INTERNATIONAL BUSINESS MACHINES CORPORATION</td>\n",
       "    </tr>\n",
       "    <tr>\n",
       "      <th>124</th>\n",
       "      <td>org_ONzMjdbZXiKfw4L0cXl6</td>\n",
       "      <td>INTERNATIONAL BUSINESS MACHINES CORPORATION</td>\n",
       "    </tr>\n",
       "    <tr>\n",
       "      <th>127</th>\n",
       "      <td>org_ONzMjdbZXiKfw4L0cXl6</td>\n",
       "      <td>INTERNATIONAL BUSINESS MACHINES CORPORATION</td>\n",
       "    </tr>\n",
       "    <tr>\n",
       "      <th>166</th>\n",
       "      <td>org_ONzMjdbZXiKfw4L0cXl6</td>\n",
       "      <td>INTERNATIONAL BUSINESS MACHINES CORPORATION</td>\n",
       "    </tr>\n",
       "    <tr>\n",
       "      <th>171</th>\n",
       "      <td>org_ONzMjdbZXiKfw4L0cXl6</td>\n",
       "      <td>INTERNATIONAL BUSINESS MACHINES CORPORATION</td>\n",
       "    </tr>\n",
       "  </tbody>\n",
       "</table>\n",
       "</div>"
      ],
      "text/plain": [
       "                  assignee_id                                 organization\n",
       "81   org_ONzMjdbZXiKfw4L0cXl6  INTERNATIONAL BUSINESS MACHINES CORPORATION\n",
       "124  org_ONzMjdbZXiKfw4L0cXl6  INTERNATIONAL BUSINESS MACHINES CORPORATION\n",
       "127  org_ONzMjdbZXiKfw4L0cXl6  INTERNATIONAL BUSINESS MACHINES CORPORATION\n",
       "166  org_ONzMjdbZXiKfw4L0cXl6  INTERNATIONAL BUSINESS MACHINES CORPORATION\n",
       "171  org_ONzMjdbZXiKfw4L0cXl6  INTERNATIONAL BUSINESS MACHINES CORPORATION"
      ]
     },
     "execution_count": 20,
     "metadata": {},
     "output_type": "execute_result"
    }
   ],
   "source": [
    "canonique_1[canonique_1['assignee_id']=='org_ONzMjdbZXiKfw4L0cXl6'].head()"
   ]
  },
  {
   "cell_type": "markdown",
   "metadata": {},
   "source": [
    "### Importing M&A of startups data "
   ]
  },
  {
   "cell_type": "raw",
   "metadata": {},
   "source": [
    "The idea is to see, empirically, the importance of patents in Tech M&A processes.\n",
    "source: crunchbase."
   ]
  },
  {
   "cell_type": "code",
   "execution_count": 10,
   "metadata": {},
   "outputs": [],
   "source": [
    "crunchbase_1 = pd.read_csv(\"/Volumes/Samsung_T5/patent_similarity_data/CRUNCHBASE_EXPORT/acquisitions_private_hardware_us.csv\")"
   ]
  },
  {
   "cell_type": "raw",
   "metadata": {},
   "source": [
    "Here, a small script that gives the number of mergers and acquisitions between a private company that is being acquired in the US and another company, both companies having patents in the US. Here, for every 100 acquisitions, 31 acquisitions were made between two US companies, with the target being a private unlisted company, both companies having at least one patent each."
   ]
  },
  {
   "cell_type": "code",
   "execution_count": 11,
   "metadata": {},
   "outputs": [
    {
     "name": "stderr",
     "output_type": "stream",
     "text": [
      "/Users/quentinciccarone/opt/anaconda3/lib/python3.8/site-packages/pandas/core/strings.py:1954: UserWarning: This pattern has match groups. To actually get the groups, use str.extract.\n",
      "  return func(self, *args, **kwargs)\n"
     ]
    }
   ],
   "source": [
    "n = 0\n",
    "firm_list = []\n",
    "for k in range(100):\n",
    "    acquiree = list(crunchbase_1['Acquiree Name'])[k]\n",
    "    acquirer = list(crunchbase_1['Acquirer Name'])[k]\n",
    "\n",
    "    has_aquiree_patent = 0\n",
    "    has_aquirer_patent = 0\n",
    "    \n",
    "    has_aquiree_patent = sum(set(assignee_1['organization'].str.contains(acquiree.upper(), regex=True, na=False)))\n",
    "    has_aquirer_patent = sum(set(assignee_1['organization'].str.contains(acquirer.upper(), regex=True, na=False)))\n",
    "\n",
    "    value = min(has_aquiree_patent,has_aquirer_patent)\n",
    "    n += value\n",
    "    if value ==1:\n",
    "        firm_list.append([acquiree.upper(),acquirer.upper()])\n",
    "    "
   ]
  },
  {
   "cell_type": "raw",
   "metadata": {},
   "source": [
    "Of the last 100 startup M&A deals reported on Crunchbase at that time, 31 were between two companies each having at least 1 patent :"
   ]
  },
  {
   "cell_type": "code",
   "execution_count": 12,
   "metadata": {},
   "outputs": [
    {
     "data": {
      "text/plain": [
       "31"
      ]
     },
     "execution_count": 12,
     "metadata": {},
     "output_type": "execute_result"
    }
   ],
   "source": [
    "n"
   ]
  },
  {
   "cell_type": "raw",
   "metadata": {},
   "source": [
    "The list of the deals, with the target on the left and the company acquiring the target on the right:"
   ]
  },
  {
   "cell_type": "code",
   "execution_count": 13,
   "metadata": {},
   "outputs": [
    {
     "data": {
      "text/plain": [
       "[['CGTECH', 'SANDVIK COROMANT'],\n",
       " ['KASTEN', 'VEEAM SOFTWARE'],\n",
       " ['BOX ROBOTICS', 'SEEGRID'],\n",
       " ['BOLT SOFTWARE', 'ECI SOFTWARE SOLUTIONS'],\n",
       " ['NEVION', 'SONY'],\n",
       " ['ARCHER SOFTWARE', 'CPRIME'],\n",
       " ['AUTOCRIB', 'SNAP-ON'],\n",
       " ['PACIFIC STAR COMMUNICATIONS', 'CURTISS-WRIGHT'],\n",
       " ['CLOUDISTICS', 'FUNGIBLE'],\n",
       " ['ZENIMAX', 'MICROSOFT'],\n",
       " ['CRADLEPOINT', 'ERICSSON'],\n",
       " ['PORTWORX', 'PURE STORAGE'],\n",
       " ['UNIVA', 'ALTAIR ENGINEERING'],\n",
       " ['TRACFONE WIRELESS', 'VERIZON COMMUNICATIONS'],\n",
       " ['ULC ROBOTICS', 'SPX CORPORATION'],\n",
       " ['HIGHFIVE', 'DIALPAD'],\n",
       " ['SPACES', 'APPLE'],\n",
       " ['PRECO', 'SENSATA TECHNOLOGIES'],\n",
       " ['STOCKWELL', '365 RETAIL MARKETS'],\n",
       " ['ALG', 'J.D. POWER AND ASSOCIATES'],\n",
       " ['PELCO', 'MOTOROLA SOLUTIONS'],\n",
       " ['PYPE', 'AUTODESK'],\n",
       " ['DISPLAYLINK', 'SYNAPTICS'],\n",
       " ['FLO TECHNOLOGIES', 'MOEN INCORPORATED'],\n",
       " ['SILVER PEAK', 'HEWLETT PACKARD ENTERPRISE'],\n",
       " ['ELECTRIC IMP', 'TWILIO'],\n",
       " ['NET IRRIGATE', 'LINDSAY CORPORATION'],\n",
       " ['DATRIUM', 'VMWARE'],\n",
       " ['MARBLE', 'CATERPILLAR'],\n",
       " ['ZOOX', 'AMAZON'],\n",
       " ['ASTRO STUDIOS', 'PA CONSULTING GROUP']]"
      ]
     },
     "execution_count": 13,
     "metadata": {},
     "output_type": "execute_result"
    }
   ],
   "source": [
    "firm_list"
   ]
  },
  {
   "cell_type": "raw",
   "metadata": {},
   "source": [
    "The idea now is to determine the similarity between the patents on both sides of the deals, the similarity between the purchaser's patents and those of the target. To do this, it is necessary to use the pre-established database with the similarity already calculated, or to determine the similarity between all the patents \"by hand\" using NLP processes.\n",
    "\n",
    "For a first approach, we will use the already calculated database, so we have to extract the good patents because the file is very heavy (20Go) and I can't put it in flash memories.\n",
    "\n",
    "For that, a simple method is to browse the JSon without putting it in the RAM (JSon stream), that increases the search time, but it works :"
   ]
  },
  {
   "cell_type": "code",
   "execution_count": 29,
   "metadata": {},
   "outputs": [],
   "source": [
    "infile = open('/Volumes/Samsung_T5/patent_similarity_data/raw_data/most_sim.json','r',encoding='utf-8')"
   ]
  },
  {
   "cell_type": "code",
   "execution_count": 30,
   "metadata": {},
   "outputs": [],
   "source": [
    "def similarity_patents_betw_2_firme(firms):\n",
    "    acquiree = firms[0]\n",
    "    acquirer = firms[1]\n",
    "    \n",
    "    assignee_id_acquiree = assignee_1[assignee_1['organization'].str.contains(acquiree, regex=True, na=False)]['assignee_id'].iloc[0]\n",
    "    assignee_id_acquirer = assignee_1[assignee_1['organization'].str.contains(acquirer, regex=True, na=False)]['assignee_id'].iloc[0]\n",
    "\n",
    "    patents_acquiree = set(assignee_2[assignee_2['assignee_id']==assignee_id_acquiree][\"patent_id\"])\n",
    "    patents_acquirer = set(assignee_2[assignee_2['assignee_id']==assignee_id_acquirer][\"patent_id\"])\n",
    "\n",
    "    \n",
    "    similarity_acquiree_dico = {}\n",
    "    similarity_acquirer_dico = {}\n",
    "\n",
    "    for sim in infile:\n",
    "        json_load = json.loads(sim)\n",
    "        if json_load[0] in patents_acquiree:\n",
    "            similarity_acquiree_dico[json_load[0]] = json_load[1]\n",
    "        if json_load[0] in patents_acquirer:\n",
    "            similarity_acquirer_dico[json_load[0]] = json_load[1] \n",
    "        \n",
    "    return(similarity_acquiree_dico,similarity_acquirer_dico)\n",
    "            "
   ]
  },
  {
   "cell_type": "raw",
   "metadata": {
    "collapsed": true
   },
   "source": [
    "result_similarity = {}\n",
    "for aree_arer in firm_list:\n",
    "    sim_aree_arer = similarity_patents_betw_2_firme(aree_arer)\n",
    "    patent_acquiree = set(sim_aree_arer[0].keys())\n",
    "    patent_acquirer = set(sim_aree_arer[1].keys())\n",
    "\n",
    "    for patent in patent_acquiree:\n",
    "        print(patent)\n",
    "        temp_dataframe = pd.DataFrame(sim_aree_arer[0][patent],columns=['patent_id','sim'])\n",
    "        temp_dataframe = temp_dataframe[temp_dataframe['patent_id'].isin(patent_acquirer)]\n",
    "        if len(temp_dataframe)>0:\n",
    "            result_similarity[aree_arer[0]] = max(result_similarity.get(aree_arer[0],0),temp_dataframe['sim'].max())\n",
    "        else:\n",
    "            result_similarity[aree_arer[0]] = result_similarity.get(aree_arer[0],0)\n",
    "        print(len(temp_dataframe))"
   ]
  },
  {
   "cell_type": "code",
   "execution_count": 18,
   "metadata": {},
   "outputs": [],
   "source": [
    "# pickle.dump( result_similarity, open( \"result_similarity_test.p\", \"wb\" ) )"
   ]
  },
  {
   "cell_type": "code",
   "execution_count": 23,
   "metadata": {},
   "outputs": [],
   "source": [
    "with open(\"result_similarity_test.p\", \"rb\") as result_sim:\n",
    "    result_similarity = pickle.load(result_sim)"
   ]
  },
  {
   "cell_type": "code",
   "execution_count": 24,
   "metadata": {},
   "outputs": [],
   "source": [
    "result_similarity_final_useful = {}\n",
    "for firm in result_similarity.keys():\n",
    "    if result_similarity[firm]>0:\n",
    "        result_similarity_final_useful[firm] = result_similarity[firm]"
   ]
  },
  {
   "cell_type": "raw",
   "metadata": {},
   "source": [
    "Here a dictionnary with keys corresponding to the targets and value the maximum similarity found between a patent from the target and a patent from the acquirer. I keep only the results when the similarity is above 0 (the 20Go database only contains the first 100 most similar patents for each patents, a patent is considered too remote according to the algorithm if it is not present in this list of 100 patents, and its similarity is therefore arbitrarily assigned to 0)."
   ]
  },
  {
   "cell_type": "code",
   "execution_count": 25,
   "metadata": {},
   "outputs": [
    {
     "data": {
      "text/plain": [
       "{'NEVION': 0.33737462759017944,\n",
       " 'ZENIMAX': 0.4011276662349701,\n",
       " 'CRADLEPOINT': 0.3633490800857544,\n",
       " 'SPACES': 0.41777321696281433,\n",
       " 'PELCO': 0.3618326187133789,\n",
       " 'DISPLAYLINK': 0.3821371793746948,\n",
       " 'SILVER PEAK': 0.4321938157081604,\n",
       " 'DATRIUM': 0.4869513511657715,\n",
       " 'ZOOX': 0.4608118534088135}"
      ]
     },
     "execution_count": 25,
     "metadata": {},
     "output_type": "execute_result"
    }
   ],
   "source": [
    "result_similarity_final_useful"
   ]
  },
  {
   "cell_type": "code",
   "execution_count": 83,
   "metadata": {},
   "outputs": [
    {
     "data": {
      "text/plain": [
       "0.09"
      ]
     },
     "execution_count": 83,
     "metadata": {},
     "output_type": "execute_result"
    }
   ],
   "source": [
    "len(result_similarity_final_useful) / 100"
   ]
  },
  {
   "cell_type": "raw",
   "metadata": {},
   "source": [
    "Out of 100 mergers, 31 are carried out between two companies each having at least one patent, and 9 are carried out between two companies having at least one patent sufficiently close.\n",
    "\n",
    "Out of this first sample of 100 mergers, we therefore have a model relevance for about 9% of the total mergers, which is huge. This would mean that 9% of the mergers and acquisitions notified on CrunchBase are relevant for the study. It's going to be fun."
   ]
  },
  {
   "cell_type": "code",
   "execution_count": null,
   "metadata": {},
   "outputs": [],
   "source": []
  },
  {
   "cell_type": "code",
   "execution_count": null,
   "metadata": {},
   "outputs": [],
   "source": []
  },
  {
   "cell_type": "code",
   "execution_count": null,
   "metadata": {},
   "outputs": [],
   "source": []
  },
  {
   "cell_type": "code",
   "execution_count": null,
   "metadata": {},
   "outputs": [],
   "source": []
  },
  {
   "cell_type": "raw",
   "metadata": {},
   "source": [
    "Évaluons la pertinence du modèle sur un exemple de fusion / acquisition : DATRIUM et VMWARE."
   ]
  },
  {
   "cell_type": "code",
   "execution_count": 31,
   "metadata": {},
   "outputs": [],
   "source": [
    "Dat_VMARE = similarity_patents_betw_2_firme(['DATRIUM', 'VMWARE'])"
   ]
  },
  {
   "cell_type": "code",
   "execution_count": 34,
   "metadata": {},
   "outputs": [
    {
     "data": {
      "text/plain": [
       "'org_NsPj2a4iD80LdYxRz2kT'"
      ]
     },
     "execution_count": 34,
     "metadata": {},
     "output_type": "execute_result"
    }
   ],
   "source": [
    "datrium_id = assignee_1[assignee_1['organization'].str.contains('DATRIUM', regex=True, na=False)]['assignee_id'].iloc[0]\n",
    "datrium_id"
   ]
  },
  {
   "cell_type": "code",
   "execution_count": 40,
   "metadata": {},
   "outputs": [],
   "source": [
    "patent_acquiree = Dat_VMARE[0].keys()"
   ]
  },
  {
   "cell_type": "code",
   "execution_count": 48,
   "metadata": {},
   "outputs": [
    {
     "name": "stdout",
     "output_type": "stream",
     "text": [
      "10061706\n",
      "0.4604795575141907\n",
      "10089013\n",
      "0.5034605860710144\n",
      "10146684\n",
      "0.45062124729156494\n",
      "10180948\n",
      "0.4766446352005005\n",
      "10235044\n",
      "0.5269159078598022\n",
      "10359945\n",
      "0.46825987100601196\n",
      "9417955\n",
      "0.44092288613319397\n",
      "9639268\n",
      "0.4494040012359619\n",
      "9703490\n",
      "0.4483810067176819\n"
     ]
    }
   ],
   "source": [
    "for patent in patent_acquiree:\n",
    "    print(patent)\n",
    "    temp_dataframe = pd.DataFrame(Dat_VMARE[0][str(patent)],columns=['patent_id','sim'])\n",
    "    temp_filter = list(temp_dataframe['patent_id'].isin(patent_acquiree))\n",
    "\n",
    "# to remove the patents from the acquiree company, not to false the results\n",
    "    temp_filter = [not boolean for boolean in temp_filter]\n",
    "    temp_dataframe = temp_dataframe[temp_filter]\n",
    "    \n",
    "# print the maximum similarity between the acquiree patent and the other patents which exist in the database\n",
    "    print(temp_dataframe['sim'].max())"
   ]
  },
  {
   "cell_type": "raw",
   "metadata": {},
   "source": [
    "On remarque que la similarité entre entreprise A et B = max(similarity(Ai,Bj)) ou les Ai et les Bj sont tous les patents de A et de B est un peu trop fort comme classification, car il se peut qu'un patent soit très proche d'un autre patent de l'entreprise mais seulement un seul. On peut supposer que si A et B on plusieurs patents, l'idée est de faire un classement de la similarité entre entreprise en pondérant la similarité de patents :\n",
    "\n",
    "    A est plus proche de C que B si A a beaucoup de patents proches de C même si B a un patent très proche de A, car B \n",
    "    n'a seulement qu'un patent proche, alors que C en a plusieurs\n",
    "\n",
    "Il reste à trouver la fonction optimisant similarité et classement dans les prévisions de fusion entre startup et entreprise. On peut ici faire appel à un premier algorithme de régression linéaire pour déterminer une équation minimisant l'erreur dans la prévision de fusion (algorithme mettant en tête de classement des entreprises similaires de la startup l'entreprise acheteuse de la startup)."
   ]
  },
  {
   "cell_type": "code",
   "execution_count": null,
   "metadata": {},
   "outputs": [],
   "source": []
  },
  {
   "cell_type": "code",
   "execution_count": null,
   "metadata": {},
   "outputs": [],
   "source": []
  },
  {
   "cell_type": "code",
   "execution_count": null,
   "metadata": {},
   "outputs": [],
   "source": []
  },
  {
   "cell_type": "code",
   "execution_count": null,
   "metadata": {},
   "outputs": [],
   "source": []
  },
  {
   "cell_type": "code",
   "execution_count": null,
   "metadata": {},
   "outputs": [],
   "source": []
  },
  {
   "cell_type": "code",
   "execution_count": null,
   "metadata": {},
   "outputs": [],
   "source": []
  },
  {
   "cell_type": "code",
   "execution_count": null,
   "metadata": {},
   "outputs": [],
   "source": []
  },
  {
   "cell_type": "code",
   "execution_count": null,
   "metadata": {},
   "outputs": [],
   "source": []
  },
  {
   "cell_type": "code",
   "execution_count": null,
   "metadata": {},
   "outputs": [],
   "source": []
  }
 ],
 "metadata": {
  "kernelspec": {
   "display_name": "Python 3",
   "language": "python",
   "name": "python3"
  },
  "language_info": {
   "codemirror_mode": {
    "name": "ipython",
    "version": 3
   },
   "file_extension": ".py",
   "mimetype": "text/x-python",
   "name": "python",
   "nbconvert_exporter": "python",
   "pygments_lexer": "ipython3",
   "version": "3.8.3"
  }
 },
 "nbformat": 4,
 "nbformat_minor": 4
}
